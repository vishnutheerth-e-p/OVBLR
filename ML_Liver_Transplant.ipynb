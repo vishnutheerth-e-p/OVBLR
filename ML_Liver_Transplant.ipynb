{
 "cells": [
  {
   "cell_type": "code",
   "execution_count": 1,
   "id": "4d5be593",
   "metadata": {},
   "outputs": [],
   "source": [
    "import pandas as pd\n",
    "from sklearn.metrics import accuracy_score,precision_score,recall_score,f1_score,confusion_matrix\n",
    "from sklearn.linear_model import LogisticRegression\n",
    "from sklearn.svm import SVC\n",
    "from sklearn.model_selection import train_test_split,cross_val_score\n",
    "from sklearn.neighbors import KNeighborsClassifier"
   ]
  },
  {
   "cell_type": "code",
   "execution_count": 2,
   "id": "ee248ea5",
   "metadata": {},
   "outputs": [],
   "source": [
    "df=pd.read_csv('indian_liver_patient.csv')"
   ]
  },
  {
   "cell_type": "code",
   "execution_count": 3,
   "id": "6a00a6f8",
   "metadata": {},
   "outputs": [
    {
     "name": "stdout",
     "output_type": "stream",
     "text": [
      "0      0\n",
      "1      0\n",
      "2      0\n",
      "3      0\n",
      "4      0\n",
      "      ..\n",
      "578    1\n",
      "579    0\n",
      "580    0\n",
      "581    0\n",
      "582    1\n",
      "Name: Class, Length: 583, dtype: int64\n"
     ]
    }
   ],
   "source": [
    "df.isnull().count()\n",
    "df[\"Class\"].replace([1,2],[0,1],inplace=True)\n",
    "print(df.Class)"
   ]
  },
  {
   "cell_type": "code",
   "execution_count": 4,
   "id": "0aa63bb6",
   "metadata": {},
   "outputs": [],
   "source": [
    "df1=df.drop(columns=['Gender']) "
   ]
  },
  {
   "cell_type": "code",
   "execution_count": 5,
   "id": "a6c520d9",
   "metadata": {},
   "outputs": [],
   "source": [
    "X=df1.iloc[:,:8]\n",
    "Y=df1.iloc[:,9]"
   ]
  },
  {
   "cell_type": "code",
   "execution_count": 6,
   "id": "5f78a208",
   "metadata": {},
   "outputs": [
    {
     "data": {
      "text/plain": [
       "0      0\n",
       "1      0\n",
       "2      0\n",
       "3      0\n",
       "4      0\n",
       "      ..\n",
       "578    1\n",
       "579    0\n",
       "580    0\n",
       "581    0\n",
       "582    1\n",
       "Name: Class, Length: 583, dtype: int64"
      ]
     },
     "execution_count": 6,
     "metadata": {},
     "output_type": "execute_result"
    }
   ],
   "source": [
    "Y"
   ]
  },
  {
   "cell_type": "markdown",
   "id": "19ae032d",
   "metadata": {},
   "source": [
    "# Split 80% for training and 20% for testing.                             "
   ]
  },
  {
   "cell_type": "code",
   "execution_count": 7,
   "id": "eba44d4e",
   "metadata": {},
   "outputs": [],
   "source": [
    "x_train,x_test,y_train,y_test=train_test_split(X,Y,test_size=0.2,random_state=77)"
   ]
  },
  {
   "cell_type": "markdown",
   "id": "88dc29f0",
   "metadata": {},
   "source": [
    "# LogisticRegression"
   ]
  },
  {
   "cell_type": "code",
   "execution_count": 8,
   "id": "dc5f0d30",
   "metadata": {},
   "outputs": [],
   "source": [
    "clf=LogisticRegression(max_iter=1000)"
   ]
  },
  {
   "cell_type": "code",
   "execution_count": 9,
   "id": "fdc03e2e",
   "metadata": {},
   "outputs": [
    {
     "name": "stdout",
     "output_type": "stream",
     "text": [
      "5 Fold Cross Validation\n",
      "Fold0 = 0.723404255319149\n",
      "Fold1 = 0.7204301075268817\n",
      "Fold2 = 0.6559139784946236\n",
      "Fold3 = 0.7204301075268817\n",
      "Fold4 = 0.7419354838709677\n"
     ]
    }
   ],
   "source": [
    "x1=cross_val_score(clf,x_train,y_train,cv=5)\n",
    "print('5 Fold Cross Validation')\n",
    "for i,j in enumerate(x1):\n",
    "    print(f'Fold{i} = {j}')"
   ]
  },
  {
   "cell_type": "code",
   "execution_count": 10,
   "id": "0c9048a9",
   "metadata": {},
   "outputs": [],
   "source": [
    "fit_1=clf.fit(x_train,y_train)"
   ]
  },
  {
   "cell_type": "code",
   "execution_count": 11,
   "id": "3c5bd743",
   "metadata": {},
   "outputs": [],
   "source": [
    "pred=fit_1.predict(x_test)"
   ]
  },
  {
   "cell_type": "code",
   "execution_count": 12,
   "id": "030b8a68",
   "metadata": {},
   "outputs": [],
   "source": [
    "#Evaluation Metrics\n",
    "acc=accuracy_score(y_test,pred)\n",
    "rec=recall_score(y_test,pred)\n",
    "pre=precision_score(y_test,pred)\n",
    "f1=f1_score(y_test,pred)\n",
    "cf=confusion_matrix(y_test,pred)"
   ]
  },
  {
   "cell_type": "code",
   "execution_count": 13,
   "id": "07a95c5d",
   "metadata": {},
   "outputs": [
    {
     "name": "stdout",
     "output_type": "stream",
     "text": [
      "Confusion Matrix\n",
      "[[79  4]\n",
      " [27  7]]\n",
      "Accuracy = 0.7350427350427351\n",
      "Recall = 0.20588235294117646\n",
      "Precesion = 0.6363636363636364\n",
      "f1 score = 0.3111111111111111\n"
     ]
    }
   ],
   "source": [
    "print('Confusion Matrix')\n",
    "print(cf)\n",
    "print(f'Accuracy = {acc}')\n",
    "print(f'Recall = {rec}')\n",
    "print(f'Precesion = {pre}')\n",
    "print(f'f1 score = {f1}')"
   ]
  },
  {
   "cell_type": "markdown",
   "id": "a1c0fd13",
   "metadata": {},
   "source": [
    "# KNN"
   ]
  },
  {
   "cell_type": "code",
   "execution_count": 14,
   "id": "c3bc65a1",
   "metadata": {},
   "outputs": [
    {
     "name": "stdout",
     "output_type": "stream",
     "text": [
      "5 Fold Cross Validation\n",
      "Fold0 = 0.6808510638297872\n",
      "Fold1 = 0.6666666666666666\n",
      "Fold2 = 0.5913978494623656\n",
      "Fold3 = 0.7311827956989247\n",
      "Fold4 = 0.6559139784946236\n"
     ]
    }
   ],
   "source": [
    "knn=KNeighborsClassifier()\n",
    "knn_2=cross_val_score(knn,x_train,y_train,cv=5)\n",
    "print('5 Fold Cross Validation')\n",
    "for i,j in enumerate(knn_2):\n",
    "    print(f'Fold{i} = {j}')"
   ]
  },
  {
   "cell_type": "code",
   "execution_count": 15,
   "id": "b519fc99",
   "metadata": {},
   "outputs": [],
   "source": [
    "fit_3=knn.fit(x_train,y_train)"
   ]
  },
  {
   "cell_type": "code",
   "execution_count": 16,
   "id": "708066d5",
   "metadata": {},
   "outputs": [],
   "source": [
    "pred_3=fit_3.predict(x_test)"
   ]
  },
  {
   "cell_type": "code",
   "execution_count": 17,
   "id": "941a8bd7",
   "metadata": {},
   "outputs": [],
   "source": [
    "#Evaluation Metrics\n",
    "acc=accuracy_score(y_test,pred_3)\n",
    "rec=recall_score(y_test,pred_3)\n",
    "pre=precision_score(y_test,pred_3)\n",
    "f1=f1_score(y_test,pred_3)\n",
    "cf=confusion_matrix(y_test,pred_3)"
   ]
  },
  {
   "cell_type": "code",
   "execution_count": 18,
   "id": "5a5b9641",
   "metadata": {},
   "outputs": [
    {
     "name": "stdout",
     "output_type": "stream",
     "text": [
      "Confusion Matrix\n",
      "[[64 19]\n",
      " [25  9]]\n",
      "Accuracy = 0.6239316239316239\n",
      "Recall = 0.2647058823529412\n",
      "Precesion = 0.32142857142857145\n",
      "f1 score = 0.2903225806451613\n"
     ]
    }
   ],
   "source": [
    "print('Confusion Matrix')\n",
    "print(cf)\n",
    "print(f'Accuracy = {acc}')\n",
    "print(f'Recall = {rec}')\n",
    "print(f'Precesion = {pre}')\n",
    "print(f'f1 score = {f1}')"
   ]
  },
  {
   "cell_type": "markdown",
   "id": "a9d78e15",
   "metadata": {},
   "source": [
    "# OVBLR"
   ]
  },
  {
   "cell_type": "code",
   "execution_count": 19,
   "id": "8b5e8a2b",
   "metadata": {},
   "outputs": [
    {
     "name": "stdout",
     "output_type": "stream",
     "text": [
      "Accuracy = 0.7350427350427351\n"
     ]
    }
   ],
   "source": [
    "import numpy as np\n",
    "from sklearn.model_selection import train_test_split\n",
    "from sklearn.preprocessing import StandardScaler\n",
    "import scipy.optimize\n",
    "# df=pd.read_csv('indian_liver_patient.csv')\n",
    "#df1=df.drop(columns=['Gender']) \n",
    "#X=df1.iloc[:,:8]\n",
    "#Y=df1.iloc[:,9]\n",
    "#X_train, X_test, y_train, y_test = train_test_split(X, Y, test_size=0.2, random_state=42)\n",
    "scaler = StandardScaler()\n",
    "X_train = scaler.fit_transform(x_train)\n",
    "X_test = scaler.transform(x_test)\n",
    "# Add a bias term to the features\n",
    "X_train_bias = np.hstack((X_train, np.ones((X_train.shape[0], 1))))\n",
    "X_test_bias = np.hstack((X_test, np.ones((X_test.shape[0], 1))))\n",
    "# Logistic sigmoid function\n",
    "def sigmoid(z):\n",
    "    return 1 / (1 + np.exp(-z))\n",
    "\n",
    "# Variational Bayesian Logistic Regression\n",
    "def variational_bayesian_logistic_regression(X, y, num_iter=1000):\n",
    "    num_samples, num_features = X.shape\n",
    "    weights = np.zeros(num_features)  # Initialize weights to zeros\n",
    "    precision_matrix = np.eye(num_features)  # Initialize precision matrix to identity\n",
    "\n",
    "    for _ in range(num_iter):\n",
    "        # Compute posterior parameters\n",
    "        covariance_matrix = np.linalg.inv(precision_matrix)\n",
    "        posterior_mean = weights\n",
    "        posterior_covariance = covariance_matrix\n",
    "\n",
    "        # Compute gradient of the evidence lower bound (ELBO)\n",
    "        y_pred = sigmoid(X.dot(weights))\n",
    "        gradient = X.T.dot(y - y_pred) - covariance_matrix.dot(weights)\n",
    "\n",
    "        # Update precision matrix using the gradient\n",
    "        precision_matrix += 0.01 * np.eye(num_features)  # Add a small regularization term\n",
    "        weights += 0.01 * covariance_matrix.dot(gradient)\n",
    "\n",
    "    return posterior_mean, covariance_matrix\n",
    "\n",
    "# Train the model\n",
    "posterior_mean, posterior_covariance = variational_bayesian_logistic_regression(X_train_bias, y_train)\n",
    "\n",
    "# Make predictions on the test set\n",
    "logits = X_test_bias.dot(posterior_mean)\n",
    "probabilities = sigmoid(logits)\n",
    "predictions = (probabilities > 0.5).astype(int)\n",
    "acc=accuracy_score(y_test,predictions)\n",
    "print(f'Accuracy = {acc}')"
   ]
  },
  {
   "cell_type": "markdown",
   "id": "ecca1df9",
   "metadata": {},
   "source": [
    "# ROC Curve"
   ]
  },
  {
   "cell_type": "code",
   "execution_count": 21,
   "id": "53162ba1",
   "metadata": {},
   "outputs": [
    {
     "data": {
      "image/png": "[encoded data removed]",
      "text/plain": [
       "<Figure size 1100x500 with 1 Axes>"
      ]
     },
     "metadata": {},
     "output_type": "display_data"
    }
   ],
   "source": [
    "import matplotlib.pyplot as plt\n",
    "from sklearn.metrics import roc_curve, roc_auc_score, auc\n",
    "from sklearn.metrics import RocCurveDisplay\n",
    "\n",
    "fig, ax_roc = plt.subplots(1, 1, figsize=(11, 5))\n",
    "\n",
    "classifiers = {\n",
    "    \"SVM\": SVC(kernel='linear', probability=True),  # Enable probability estimates for SVM\n",
    "    \"Logistic\": LogisticRegression(max_iter=500),\n",
    "    \"KNN\": KNeighborsClassifier(),\n",
    "    \"VB Logistic Regression\": variational_bayesian_logistic_regression\n",
    "}\n",
    "\n",
    "for name, clf in classifiers.items():\n",
    "    if name == \"VB Logistic Regression\":\n",
    "        logits = X_test_bias.dot(posterior_mean)\n",
    "        probabilities = sigmoid(logits)\n",
    "        fpr, tpr, _ = roc_curve(y_test, probabilities)\n",
    "        roc_auc = auc(fpr, tpr)\n",
    "        RocCurveDisplay(fpr=fpr, tpr=tpr, estimator_name=f'{name}').plot(ax=ax_roc)\n",
    "    else:\n",
    "        clf.fit(X_train, y_train)\n",
    "        try:\n",
    "            # Try using predict_proba\n",
    "            prob_pos = clf.predict_proba(X_test)[:, 1]\n",
    "        except AttributeError:\n",
    "            # Use decision_function if predict_proba is not available\n",
    "            prob_pos = clf.decision_function(X_test)\n",
    "     \n",
    "        fpr, tpr, _ = roc_curve(y_test, prob_pos)\n",
    "        roc_auc = roc_auc_score(y_test, prob_pos)\n",
    "        RocCurveDisplay(fpr=fpr, tpr=tpr, estimator_name=f'{name}').plot(ax=ax_roc)\n",
    "\n",
    "ax_roc.set_title(\"Receiver Operating Characteristic (ROC) curves\")\n",
    "ax_roc.grid(linestyle=\"--\")\n",
    "plt.legend()\n",
    "plt.show()"
   ]
  },
  {
   "cell_type": "code",
   "execution_count": null,
   "id": "2d66875c",
   "metadata": {},
   "outputs": [],
   "source": []
  }
 ],
 "metadata": {
  "kernelspec": {
   "display_name": "Python 3 (ipykernel)",
   "language": "python",
   "name": "python3"
  },
  "language_info": {
   "codemirror_mode": {
    "name": "ipython",
    "version": 3
   },
   "file_extension": ".py",
   "mimetype": "text/x-python",
   "name": "python",
   "nbconvert_exporter": "python",
   "pygments_lexer": "ipython3",
   "version": "3.11.3"
  }
 },
 "nbformat": 4,
 "nbformat_minor": 5
}
