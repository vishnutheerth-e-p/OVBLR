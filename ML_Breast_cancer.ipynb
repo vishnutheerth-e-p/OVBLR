{
 "cells": [
  {
   "cell_type": "code",
   "execution_count": 1,
   "id": "abe14533",
   "metadata": {},
   "outputs": [],
   "source": [
    "import pandas as pd\n",
    "from sklearn.metrics import accuracy_score,precision_score,recall_score,f1_score,confusion_matrix\n",
    "from sklearn.linear_model import LogisticRegression\n",
    "from sklearn.svm import SVC\n",
    "from sklearn.model_selection import train_test_split,cross_val_score\n",
    "from sklearn.neighbors import KNeighborsClassifier"
   ]
  },
  {
   "cell_type": "code",
   "execution_count": 2,
   "id": "4b085378",
   "metadata": {},
   "outputs": [],
   "source": [
    "df=pd.read_csv('raw_data_breast.csv')"
   ]
  },
  {
   "cell_type": "code",
   "execution_count": 3,
   "id": "9f139839",
   "metadata": {},
   "outputs": [
    {
     "data": {
      "text/plain": [
       "Class                          683\n",
       "Clump_Thickness                683\n",
       "Uniformity_of_Cell_Size        683\n",
       "Uniformity_of_Cell_Shape       683\n",
       "Marginal_Adhesion              683\n",
       "Single_Epithelial_Cell_Size    683\n",
       "Bare_Nuclei                    683\n",
       "Bland_Chromatin                683\n",
       "Normal_Nucleoli                683\n",
       "Mitoses                        683\n",
       "dtype: int64"
      ]
     },
     "execution_count": 3,
     "metadata": {},
     "output_type": "execute_result"
    }
   ],
   "source": [
    "df.isnull().count()"
   ]
  },
  {
   "cell_type": "code",
   "execution_count": 4,
   "id": "08a86219",
   "metadata": {},
   "outputs": [],
   "source": [
    "X=df.iloc[:,1:]\n",
    "Y=df.iloc[:,0]"
   ]
  },
  {
   "cell_type": "markdown",
   "id": "e8cb9dfe",
   "metadata": {},
   "source": [
    "# Split 80% for training and 20% for testing.                             "
   ]
  },
  {
   "cell_type": "code",
   "execution_count": 5,
   "id": "9e389bb1",
   "metadata": {},
   "outputs": [],
   "source": [
    "x_train,x_test,y_train,y_test=train_test_split(X,Y,test_size=0.2,random_state=93)"
   ]
  },
  {
   "cell_type": "markdown",
   "id": "33fd0afd",
   "metadata": {},
   "source": [
    "# LogisticRegression"
   ]
  },
  {
   "cell_type": "code",
   "execution_count": 6,
   "id": "925efa96",
   "metadata": {},
   "outputs": [],
   "source": [
    "clf=LogisticRegression(max_iter=500)"
   ]
  },
  {
   "cell_type": "code",
   "execution_count": 7,
   "id": "c3bb6869",
   "metadata": {},
   "outputs": [
    {
     "name": "stdout",
     "output_type": "stream",
     "text": [
      "5 Fold Cross Validation\n",
      "Fold0 = 0.9636363636363636\n",
      "Fold1 = 0.9724770642201835\n",
      "Fold2 = 0.9724770642201835\n",
      "Fold3 = 0.944954128440367\n",
      "Fold4 = 0.9724770642201835\n"
     ]
    }
   ],
   "source": [
    "x1=cross_val_score(clf,x_train,y_train,cv=5)\n",
    "print('5 Fold Cross Validation')\n",
    "for i,j in enumerate(x1):\n",
    "    print(f'Fold{i} = {j}')"
   ]
  },
  {
   "cell_type": "code",
   "execution_count": 8,
   "id": "8cd56373",
   "metadata": {},
   "outputs": [],
   "source": [
    "fit_1=clf.fit(x_train,y_train)"
   ]
  },
  {
   "cell_type": "code",
   "execution_count": 9,
   "id": "13d5256c",
   "metadata": {},
   "outputs": [],
   "source": [
    "pred=fit_1.predict(x_test)"
   ]
  },
  {
   "cell_type": "code",
   "execution_count": 10,
   "id": "32c275c2",
   "metadata": {},
   "outputs": [],
   "source": [
    "#Evaluation Metrics\n",
    "acc=accuracy_score(y_test,pred)\n",
    "rec=recall_score(y_test,pred)\n",
    "pre=precision_score(y_test,pred)\n",
    "f1=f1_score(y_test,pred)\n",
    "cf=confusion_matrix(y_test,pred)"
   ]
  },
  {
   "cell_type": "code",
   "execution_count": 11,
   "id": "eebd8b71",
   "metadata": {},
   "outputs": [
    {
     "name": "stdout",
     "output_type": "stream",
     "text": [
      "Confusion Matrix\n",
      "[[89  2]\n",
      " [ 2 44]]\n",
      "Accuracy = 0.9708029197080292\n",
      "Recall = 0.9565217391304348\n",
      "Precesion = 0.9565217391304348\n",
      "f1 score = 0.9565217391304348\n"
     ]
    }
   ],
   "source": [
    "print('Confusion Matrix')\n",
    "print(cf)\n",
    "print(f'Accuracy = {acc}')\n",
    "print(f'Recall = {rec}')\n",
    "print(f'Precesion = {pre}')\n",
    "print(f'f1 score = {f1}')"
   ]
  },
  {
   "cell_type": "markdown",
   "id": "c62a923c",
   "metadata": {},
   "source": [
    "# SVM"
   ]
  },
  {
   "cell_type": "code",
   "execution_count": 12,
   "id": "be62190d",
   "metadata": {},
   "outputs": [
    {
     "name": "stdout",
     "output_type": "stream",
     "text": [
      "5 Fold Cross Validation\n",
      "Fold0 = 0.9636363636363636\n",
      "Fold1 = 0.9724770642201835\n",
      "Fold2 = 0.981651376146789\n",
      "Fold3 = 0.9357798165137615\n",
      "Fold4 = 0.963302752293578\n"
     ]
    }
   ],
   "source": [
    "sv1=SVC(kernel='linear')\n",
    "sv2=cross_val_score(sv1,x_train,y_train,cv=5)\n",
    "print('5 Fold Cross Validation')\n",
    "for i,j in enumerate(sv2):\n",
    "    print(f'Fold{i} = {j}')"
   ]
  },
  {
   "cell_type": "code",
   "execution_count": 13,
   "id": "450157e0",
   "metadata": {},
   "outputs": [],
   "source": [
    "fit_2=sv1.fit(x_train,y_train)"
   ]
  },
  {
   "cell_type": "code",
   "execution_count": 14,
   "id": "301c7258",
   "metadata": {},
   "outputs": [],
   "source": [
    "pred_2=fit_2.predict(x_test)"
   ]
  },
  {
   "cell_type": "code",
   "execution_count": 15,
   "id": "1f277f89",
   "metadata": {},
   "outputs": [],
   "source": [
    "#Evaluation Metrics\n",
    "acc=accuracy_score(y_test,pred_2)\n",
    "rec=recall_score(y_test,pred_2)\n",
    "pre=precision_score(y_test,pred_2)\n",
    "f1=f1_score(y_test,pred_2)\n",
    "cf=confusion_matrix(y_test,pred_2)"
   ]
  },
  {
   "cell_type": "code",
   "execution_count": 16,
   "id": "6bdfdde0",
   "metadata": {},
   "outputs": [
    {
     "name": "stdout",
     "output_type": "stream",
     "text": [
      "Confusion Matrix\n",
      "[[89  2]\n",
      " [ 2 44]]\n",
      "Accuracy = 0.9708029197080292\n",
      "Recall = 0.9565217391304348\n",
      "Precesion = 0.9565217391304348\n",
      "f1 score = 0.9565217391304348\n"
     ]
    }
   ],
   "source": [
    "print('Confusion Matrix')\n",
    "print(cf)\n",
    "print(f'Accuracy = {acc}')\n",
    "print(f'Recall = {rec}')\n",
    "print(f'Precesion = {pre}')\n",
    "print(f'f1 score = {f1}')"
   ]
  },
  {
   "cell_type": "markdown",
   "id": "0518ed1e",
   "metadata": {},
   "source": [
    "# KNN"
   ]
  },
  {
   "cell_type": "code",
   "execution_count": 17,
   "id": "4448b604",
   "metadata": {},
   "outputs": [
    {
     "name": "stdout",
     "output_type": "stream",
     "text": [
      "5 Fold Cross Validation\n",
      "Fold0 = 0.9636363636363636\n",
      "Fold1 = 0.9724770642201835\n",
      "Fold2 = 0.981651376146789\n",
      "Fold3 = 0.926605504587156\n",
      "Fold4 = 0.9908256880733946\n"
     ]
    }
   ],
   "source": [
    "knn=KNeighborsClassifier()\n",
    "knn_2=cross_val_score(knn,x_train,y_train,cv=5)\n",
    "print('5 Fold Cross Validation')\n",
    "for i,j in enumerate(knn_2):\n",
    "    print(f'Fold{i} = {j}')"
   ]
  },
  {
   "cell_type": "code",
   "execution_count": 18,
   "id": "0c44dc0b",
   "metadata": {},
   "outputs": [],
   "source": [
    "fit_3=knn.fit(x_train,y_train)"
   ]
  },
  {
   "cell_type": "code",
   "execution_count": 19,
   "id": "0af711fd",
   "metadata": {},
   "outputs": [],
   "source": [
    "pred_3=fit_3.predict(x_test)"
   ]
  },
  {
   "cell_type": "code",
   "execution_count": 20,
   "id": "e8a93eb7",
   "metadata": {},
   "outputs": [],
   "source": [
    "#Evaluation Metrics\n",
    "acc=accuracy_score(y_test,pred_3)\n",
    "rec=recall_score(y_test,pred_3)\n",
    "pre=precision_score(y_test,pred_3)\n",
    "f1=f1_score(y_test,pred_3)\n",
    "cf=confusion_matrix(y_test,pred_3)"
   ]
  },
  {
   "cell_type": "code",
   "execution_count": 21,
   "id": "c3fbdffe",
   "metadata": {},
   "outputs": [
    {
     "name": "stdout",
     "output_type": "stream",
     "text": [
      "Confusion Matrix\n",
      "[[89  2]\n",
      " [ 1 45]]\n",
      "Accuracy = 0.9781021897810219\n",
      "Recall = 0.9782608695652174\n",
      "Precesion = 0.9574468085106383\n",
      "f1 score = 0.967741935483871\n"
     ]
    }
   ],
   "source": [
    "print('Confusion Matrix')\n",
    "print(cf)\n",
    "print(f'Accuracy = {acc}')\n",
    "print(f'Recall = {rec}')\n",
    "print(f'Precesion = {pre}')\n",
    "print(f'f1 score = {f1}')"
   ]
  },
  {
   "cell_type": "markdown",
   "id": "e6b9de1d",
   "metadata": {},
   "source": [
    "# OVBLR"
   ]
  },
  {
   "cell_type": "code",
   "execution_count": 22,
   "id": "cb21ed7b",
   "metadata": {},
   "outputs": [],
   "source": [
    "import numpy as np\n",
    "from sklearn.model_selection import train_test_split\n",
    "from sklearn.preprocessing import StandardScaler\n",
    "import scipy.optimize\n",
    "df=pd.read_csv('raw_data_breast.csv')\n",
    "X=df.iloc[:,1:]\n",
    "Y=df.iloc[:,0]\n",
    "X_train, X_test, y_train, y_test = train_test_split(X, Y, test_size=0.2, random_state=42)\n",
    "scaler = StandardScaler()\n",
    "X_train = scaler.fit_transform(X_train)\n",
    "X_test = scaler.transform(X_test)\n",
    "# Add a bias term to the features\n",
    "X_train_bias = np.hstack((X_train, np.ones((X_train.shape[0], 1))))\n",
    "X_test_bias = np.hstack((X_test, np.ones((X_test.shape[0], 1))))\n",
    "# Logistic sigmoid function\n",
    "def sigmoid(z):\n",
    "    return 1 / (1 + np.exp(-z))\n",
    "\n",
    "# Variational Bayesian Logistic Regression\n",
    "def variational_bayesian_logistic_regression(X, y, num_iter=1000):\n",
    "    num_samples, num_features = X.shape\n",
    "    weights = np.zeros(num_features)  # Initialize weights to zeros\n",
    "    precision_matrix = np.eye(num_features)  # Initialize precision matrix to identity\n",
    "\n",
    "    for _ in range(num_iter):\n",
    "        # Compute posterior parameters\n",
    "        covariance_matrix = np.linalg.inv(precision_matrix)\n",
    "        posterior_mean = weights\n",
    "        posterior_covariance = covariance_matrix\n",
    "\n",
    "        # Compute gradient of the evidence lower bound (ELBO)\n",
    "        y_pred = sigmoid(X.dot(weights))\n",
    "        gradient = X.T.dot(y - y_pred) - covariance_matrix.dot(weights)\n",
    "\n",
    "        # Update precision matrix using the gradient\n",
    "        precision_matrix += 0.01 * np.eye(num_features)  # Add a small regularization term\n",
    "        weights += 0.01 * covariance_matrix.dot(gradient)\n",
    "\n",
    "    return posterior_mean, covariance_matrix\n",
    "\n",
    "# Train the model\n",
    "posterior_mean, posterior_covariance = variational_bayesian_logistic_regression(X_train_bias, y_train)\n",
    "\n",
    "# Make predictions on the test set\n",
    "logits = X_test_bias.dot(posterior_mean)\n",
    "probabilities = sigmoid(logits)\n",
    "predictions = (probabilities > 0.5).astype(int)\n",
    "\n"
   ]
  },
  {
   "cell_type": "code",
   "execution_count": 23,
   "id": "f721430e",
   "metadata": {},
   "outputs": [],
   "source": [
    "#Evaluation Metrics\n",
    "acc=accuracy_score(y_test,predictions)\n",
    "rec=recall_score(y_test,predictions)\n",
    "pre=precision_score(y_test,predictions)\n",
    "f1=f1_score(y_test,predictions)\n",
    "cf=confusion_matrix(y_test,predictions)"
   ]
  },
  {
   "cell_type": "code",
   "execution_count": 24,
   "id": "7399c381",
   "metadata": {},
   "outputs": [
    {
     "name": "stdout",
     "output_type": "stream",
     "text": [
      "Confusion Matrix\n",
      "[[78  1]\n",
      " [ 5 53]]\n",
      "Accuracy = 0.9562043795620438\n",
      "Recall = 0.9137931034482759\n",
      "Precesion = 0.9814814814814815\n",
      "f1 score = 0.9464285714285714\n"
     ]
    }
   ],
   "source": [
    "print('Confusion Matrix')\n",
    "print(cf)\n",
    "print(f'Accuracy = {acc}')\n",
    "print(f'Recall = {rec}')\n",
    "print(f'Precesion = {pre}')\n",
    "print(f'f1 score = {f1}')"
   ]
  },
  {
   "cell_type": "markdown",
   "id": "b0d194f9",
   "metadata": {},
   "source": [
    "# ROC Curve"
   ]
  },
  {
   "cell_type": "code",
   "execution_count": 25,
   "id": "5e0e9532",
   "metadata": {},
   "outputs": [
    {
     "data": {
      "image/png": "[encoded data removed]",
      "text/plain": [
       "<Figure size 1100x500 with 1 Axes>"
      ]
     },
     "metadata": {},
     "output_type": "display_data"
    }
   ],
   "source": [
    "import matplotlib.pyplot as plt\n",
    "from sklearn.metrics import roc_curve, roc_auc_score, auc\n",
    "from sklearn.metrics import RocCurveDisplay\n",
    "\n",
    "fig, ax_roc = plt.subplots(1, 1, figsize=(11, 5))\n",
    "\n",
    "classifiers = {\n",
    "    \"SVM\": SVC(kernel='linear', probability=True),  # Enable probability estimates for SVM\n",
    "    \"Logistic\": LogisticRegression(max_iter=500),\n",
    "    \"KNN\": KNeighborsClassifier(),\n",
    "    \"VB Logistic Regression\": variational_bayesian_logistic_regression\n",
    "}\n",
    "\n",
    "for name, clf in classifiers.items():\n",
    "    if name == \"VB Logistic Regression\":\n",
    "        logits = X_test_bias.dot(posterior_mean)\n",
    "        probabilities = sigmoid(logits)\n",
    "        fpr, tpr, _ = roc_curve(y_test, probabilities)\n",
    "        roc_auc = auc(fpr, tpr)\n",
    "        RocCurveDisplay(fpr=fpr, tpr=tpr, estimator_name=f'{name}').plot(ax=ax_roc)\n",
    "    else:\n",
    "        clf.fit(X_train, y_train)\n",
    "        try:\n",
    "            # Try using predict_proba\n",
    "            prob_pos = clf.predict_proba(X_test)[:, 1]\n",
    "        except AttributeError:\n",
    "            # Use decision_function if predict_proba is not available\n",
    "            prob_pos = clf.decision_function(X_test)\n",
    "     \n",
    "        fpr, tpr, _ = roc_curve(y_test, prob_pos)\n",
    "        roc_auc = roc_auc_score(y_test, prob_pos)\n",
    "        RocCurveDisplay(fpr=fpr, tpr=tpr, estimator_name=f'{name}').plot(ax=ax_roc)\n",
    "\n",
    "ax_roc.set_title(\"Receiver Operating Characteristic (ROC) curves\")\n",
    "ax_roc.grid(linestyle=\"--\")\n",
    "plt.legend()\n",
    "plt.show()"
   ]
  }
 ],
 "metadata": {
  "kernelspec": {
   "display_name": "Python 3 (ipykernel)",
   "language": "python",
   "name": "python3"
  },
  "language_info": {
   "codemirror_mode": {
    "name": "ipython",
    "version": 3
   },
   "file_extension": ".py",
   "mimetype": "text/x-python",
   "name": "python",
   "nbconvert_exporter": "python",
   "pygments_lexer": "ipython3",
   "version": "3.11.3"
  }
 },
 "nbformat": 4,
 "nbformat_minor": 5
}
