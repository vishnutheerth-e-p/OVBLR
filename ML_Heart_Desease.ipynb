{
 "cells": [
  {
   "cell_type": "code",
   "execution_count": 1,
   "id": "4d5be593",
   "metadata": {},
   "outputs": [],
   "source": [
    "import pandas as pd\n",
    "from sklearn.metrics import accuracy_score,precision_score,recall_score,f1_score,confusion_matrix\n",
    "from sklearn.linear_model import LogisticRegression\n",
    "from sklearn.svm import SVC\n",
    "from sklearn.model_selection import train_test_split,cross_val_score\n",
    "from sklearn.neighbors import KNeighborsClassifier"
   ]
  },
  {
   "cell_type": "code",
   "execution_count": 2,
   "id": "ee248ea5",
   "metadata": {},
   "outputs": [],
   "source": [
    "df=pd.read_csv('raw_data_heart.csv')"
   ]
  },
  {
   "cell_type": "code",
   "execution_count": 3,
   "id": "6a00a6f8",
   "metadata": {},
   "outputs": [
    {
     "data": {
      "text/plain": [
       "target      1025\n",
       "age         1025\n",
       "sex         1025\n",
       "cp          1025\n",
       "trestbps    1025\n",
       "chol        1025\n",
       "fbs         1025\n",
       "restecg     1025\n",
       "thalach     1025\n",
       "exang       1025\n",
       "oldpeak     1025\n",
       "slope       1025\n",
       "ca          1025\n",
       "thal        1025\n",
       "dtype: int64"
      ]
     },
     "execution_count": 3,
     "metadata": {},
     "output_type": "execute_result"
    }
   ],
   "source": [
    "df.isnull().count()"
   ]
  },
  {
   "cell_type": "code",
   "execution_count": 4,
   "id": "a6c520d9",
   "metadata": {},
   "outputs": [],
   "source": [
    "X=df.iloc[:,1:]\n",
    "Y=df.iloc[:,0]"
   ]
  },
  {
   "cell_type": "markdown",
   "id": "19ae032d",
   "metadata": {},
   "source": [
    "# Split 80% for training and 20% for testing.                             "
   ]
  },
  {
   "cell_type": "code",
   "execution_count": 5,
   "id": "eba44d4e",
   "metadata": {},
   "outputs": [],
   "source": [
    "x_train,x_test,y_train,y_test=train_test_split(X,Y,test_size=0.2,random_state=81)"
   ]
  },
  {
   "cell_type": "markdown",
   "id": "88dc29f0",
   "metadata": {},
   "source": [
    "# LogisticRegression"
   ]
  },
  {
   "cell_type": "code",
   "execution_count": 6,
   "id": "dc5f0d30",
   "metadata": {},
   "outputs": [],
   "source": [
    "clf=LogisticRegression(max_iter=1000)"
   ]
  },
  {
   "cell_type": "code",
   "execution_count": 7,
   "id": "fdc03e2e",
   "metadata": {},
   "outputs": [
    {
     "name": "stdout",
     "output_type": "stream",
     "text": [
      "5 Fold Cross Validation\n",
      "Fold0 = 0.8170731707317073\n",
      "Fold1 = 0.8414634146341463\n",
      "Fold2 = 0.8353658536585366\n",
      "Fold3 = 0.8658536585365854\n",
      "Fold4 = 0.8353658536585366\n"
     ]
    }
   ],
   "source": [
    "x1=cross_val_score(clf,x_train,y_train,cv=5)\n",
    "print('5 Fold Cross Validation')\n",
    "for i,j in enumerate(x1):\n",
    "    print(f'Fold{i} = {j}')"
   ]
  },
  {
   "cell_type": "code",
   "execution_count": 8,
   "id": "0c9048a9",
   "metadata": {},
   "outputs": [],
   "source": [
    "fit_1=clf.fit(x_train,y_train)"
   ]
  },
  {
   "cell_type": "code",
   "execution_count": 9,
   "id": "3c5bd743",
   "metadata": {},
   "outputs": [],
   "source": [
    "pred=fit_1.predict(x_test)"
   ]
  },
  {
   "cell_type": "code",
   "execution_count": 10,
   "id": "030b8a68",
   "metadata": {},
   "outputs": [],
   "source": [
    "#Evaluation Metrics\n",
    "acc=accuracy_score(y_test,pred)\n",
    "rec=recall_score(y_test,pred)\n",
    "pre=precision_score(y_test,pred)\n",
    "f1=f1_score(y_test,pred)\n",
    "cf=confusion_matrix(y_test,pred)"
   ]
  },
  {
   "cell_type": "code",
   "execution_count": 11,
   "id": "07a95c5d",
   "metadata": {},
   "outputs": [
    {
     "name": "stdout",
     "output_type": "stream",
     "text": [
      "Confusion Matrix\n",
      "[[77 21]\n",
      " [ 8 99]]\n",
      "Accuracy = 0.8585365853658536\n",
      "Recall = 0.9252336448598131\n",
      "Precesion = 0.825\n",
      "f1 score = 0.8722466960352423\n"
     ]
    }
   ],
   "source": [
    "print('Confusion Matrix')\n",
    "print(cf)\n",
    "print(f'Accuracy = {acc}')\n",
    "print(f'Recall = {rec}')\n",
    "print(f'Precesion = {pre}')\n",
    "print(f'f1 score = {f1}')"
   ]
  },
  {
   "cell_type": "markdown",
   "id": "ff98629e",
   "metadata": {},
   "source": [
    "# SVM"
   ]
  },
  {
   "cell_type": "code",
   "execution_count": 12,
   "id": "3f3392a8",
   "metadata": {},
   "outputs": [
    {
     "name": "stdout",
     "output_type": "stream",
     "text": [
      "5 Fold Cross Validation\n",
      "Fold0 = 0.7987804878048781\n",
      "Fold1 = 0.8414634146341463\n",
      "Fold2 = 0.8353658536585366\n",
      "Fold3 = 0.8719512195121951\n",
      "Fold4 = 0.8170731707317073\n"
     ]
    }
   ],
   "source": [
    "sv1=SVC(kernel='linear')\n",
    "sv2=cross_val_score(sv1,x_train,y_train,cv=5)\n",
    "print('5 Fold Cross Validation')\n",
    "for i,j in enumerate(sv2):\n",
    "    print(f'Fold{i} = {j}')"
   ]
  },
  {
   "cell_type": "code",
   "execution_count": 13,
   "id": "c93cb840",
   "metadata": {},
   "outputs": [],
   "source": [
    "fit_2=sv1.fit(x_train,y_train)"
   ]
  },
  {
   "cell_type": "code",
   "execution_count": 14,
   "id": "51961ddb",
   "metadata": {},
   "outputs": [],
   "source": [
    "pred_2=fit_2.predict(x_test)"
   ]
  },
  {
   "cell_type": "code",
   "execution_count": 15,
   "id": "188f14ae",
   "metadata": {},
   "outputs": [],
   "source": [
    "#Evaluation Metrics\n",
    "acc=accuracy_score(y_test,pred_2)\n",
    "rec=recall_score(y_test,pred_2)\n",
    "pre=precision_score(y_test,pred_2)\n",
    "f1=f1_score(y_test,pred_2)\n",
    "cf=confusion_matrix(y_test,pred_2)"
   ]
  },
  {
   "cell_type": "code",
   "execution_count": 16,
   "id": "9cc84263",
   "metadata": {},
   "outputs": [
    {
     "name": "stdout",
     "output_type": "stream",
     "text": [
      "Confusion Matrix\n",
      "[[ 74  24]\n",
      " [  7 100]]\n",
      "Accuracy = 0.848780487804878\n",
      "Recall = 0.9345794392523364\n",
      "Precesion = 0.8064516129032258\n",
      "f1 score = 0.8658008658008658\n"
     ]
    }
   ],
   "source": [
    "print('Confusion Matrix')\n",
    "print(cf)\n",
    "print(f'Accuracy = {acc}')\n",
    "print(f'Recall = {rec}')\n",
    "print(f'Precesion = {pre}')\n",
    "print(f'f1 score = {f1}')"
   ]
  },
  {
   "cell_type": "markdown",
   "id": "a1c0fd13",
   "metadata": {},
   "source": [
    "# KNN"
   ]
  },
  {
   "cell_type": "code",
   "execution_count": 17,
   "id": "c3bc65a1",
   "metadata": {},
   "outputs": [
    {
     "name": "stdout",
     "output_type": "stream",
     "text": [
      "5 Fold Cross Validation\n",
      "Fold0 = 0.7073170731707317\n",
      "Fold1 = 0.7439024390243902\n",
      "Fold2 = 0.7134146341463414\n",
      "Fold3 = 0.7073170731707317\n",
      "Fold4 = 0.6829268292682927\n"
     ]
    }
   ],
   "source": [
    "knn=KNeighborsClassifier()\n",
    "knn_2=cross_val_score(knn,x_train,y_train,cv=5)\n",
    "print('5 Fold Cross Validation')\n",
    "for i,j in enumerate(knn_2):\n",
    "    print(f'Fold{i} = {j}')"
   ]
  },
  {
   "cell_type": "code",
   "execution_count": 18,
   "id": "b519fc99",
   "metadata": {},
   "outputs": [],
   "source": [
    "fit_3=knn.fit(x_train,y_train)"
   ]
  },
  {
   "cell_type": "code",
   "execution_count": 19,
   "id": "708066d5",
   "metadata": {},
   "outputs": [],
   "source": [
    "pred_3=fit_3.predict(x_test)"
   ]
  },
  {
   "cell_type": "code",
   "execution_count": 20,
   "id": "941a8bd7",
   "metadata": {},
   "outputs": [],
   "source": [
    "#Evaluation Metrics\n",
    "acc=accuracy_score(y_test,pred_3)\n",
    "rec=recall_score(y_test,pred_3)\n",
    "pre=precision_score(y_test,pred_3)\n",
    "f1=f1_score(y_test,pred_3)\n",
    "cf=confusion_matrix(y_test,pred_3)"
   ]
  },
  {
   "cell_type": "code",
   "execution_count": 21,
   "id": "5a5b9641",
   "metadata": {},
   "outputs": [
    {
     "name": "stdout",
     "output_type": "stream",
     "text": [
      "Confusion Matrix\n",
      "[[75 23]\n",
      " [23 84]]\n",
      "Accuracy = 0.775609756097561\n",
      "Recall = 0.7850467289719626\n",
      "Precesion = 0.7850467289719626\n",
      "f1 score = 0.7850467289719625\n"
     ]
    }
   ],
   "source": [
    "print('Confusion Matrix')\n",
    "print(cf)\n",
    "print(f'Accuracy = {acc}')\n",
    "print(f'Recall = {rec}')\n",
    "print(f'Precesion = {pre}')\n",
    "print(f'f1 score = {f1}')"
   ]
  },
  {
   "cell_type": "markdown",
   "id": "9c636c58",
   "metadata": {},
   "source": [
    "# OVBLR"
   ]
  },
  {
   "cell_type": "code",
   "execution_count": 22,
   "id": "8b5e8a2b",
   "metadata": {},
   "outputs": [],
   "source": [
    "import numpy as np\n",
    "from sklearn.model_selection import train_test_split\n",
    "from sklearn.preprocessing import StandardScaler\n",
    "import scipy.optimize\n",
    "df=pd.read_csv('raw_data_heart.csv')\n",
    "X=df.iloc[:,1:]\n",
    "Y=df.iloc[:,0]\n",
    "X_train, X_test, y_train, y_test = train_test_split(X, Y, test_size=0.2, random_state=42)\n",
    "scaler = StandardScaler()\n",
    "X_train = scaler.fit_transform(X_train)\n",
    "X_test = scaler.transform(X_test)\n",
    "# Add a bias term to the features\n",
    "X_train_bias = np.hstack((X_train, np.ones((X_train.shape[0], 1))))\n",
    "X_test_bias = np.hstack((X_test, np.ones((X_test.shape[0], 1))))\n",
    "# Logistic sigmoid function\n",
    "def sigmoid(z):\n",
    "    return 1 / (1 + np.exp(-z))\n",
    "\n",
    "# Variational Bayesian Logistic Regression\n",
    "def variational_bayesian_logistic_regression(X, y, num_iter=1000):\n",
    "    num_samples, num_features = X.shape\n",
    "    weights = np.zeros(num_features)  # Initialize weights to zeros\n",
    "    precision_matrix = np.eye(num_features)  # Initialize precision matrix to identity\n",
    "\n",
    "    for _ in range(num_iter):\n",
    "        # Compute posterior parameters\n",
    "        covariance_matrix = np.linalg.inv(precision_matrix)\n",
    "        posterior_mean = weights\n",
    "        posterior_covariance = covariance_matrix\n",
    "\n",
    "        # Compute gradient of the evidence lower bound (ELBO)\n",
    "        y_pred = sigmoid(X.dot(weights))\n",
    "        gradient = X.T.dot(y - y_pred) - covariance_matrix.dot(weights)\n",
    "\n",
    "        # Update precision matrix using the gradient\n",
    "        precision_matrix += 0.01 * np.eye(num_features)  # Add a small regularization term\n",
    "        weights += 0.01 * covariance_matrix.dot(gradient)\n",
    "\n",
    "    return posterior_mean, covariance_matrix\n",
    "\n",
    "# Train the model\n",
    "posterior_mean, posterior_covariance = variational_bayesian_logistic_regression(X_train_bias, y_train)\n",
    "\n",
    "# Make predictions on the test set\n",
    "logits = X_test_bias.dot(posterior_mean)\n",
    "probabilities = sigmoid(logits)\n",
    "predictions = (probabilities > 0.5).astype(int)"
   ]
  },
  {
   "cell_type": "code",
   "execution_count": 23,
   "id": "73457bba",
   "metadata": {},
   "outputs": [],
   "source": [
    "#Evaluation Metrics\n",
    "acc=accuracy_score(y_test,predictions)\n",
    "rec=recall_score(y_test,predictions)\n",
    "pre=precision_score(y_test,predictions)\n",
    "f1=f1_score(y_test,predictions)\n",
    "cf=confusion_matrix(y_test,predictions)"
   ]
  },
  {
   "cell_type": "code",
   "execution_count": 24,
   "id": "8dd4419d",
   "metadata": {},
   "outputs": [
    {
     "name": "stdout",
     "output_type": "stream",
     "text": [
      "Confusion Matrix\n",
      "[[73 29]\n",
      " [13 90]]\n",
      "Accuracy = 0.7951219512195122\n",
      "Recall = 0.8737864077669902\n",
      "Precesion = 0.7563025210084033\n",
      "f1 score = 0.8108108108108107\n"
     ]
    }
   ],
   "source": [
    "print('Confusion Matrix')\n",
    "print(cf)\n",
    "print(f'Accuracy = {acc}')\n",
    "print(f'Recall = {rec}')\n",
    "print(f'Precesion = {pre}')\n",
    "print(f'f1 score = {f1}')"
   ]
  },
  {
   "cell_type": "markdown",
   "id": "a96574af",
   "metadata": {},
   "source": [
    "# ROC Curve"
   ]
  },
  {
   "cell_type": "code",
   "execution_count": 26,
   "id": "c42cf4e5",
   "metadata": {},
   "outputs": [
    {
     "data": {
      "image/png": "[encoded data removed]",
      "text/plain": [
       "<Figure size 1100x500 with 1 Axes>"
      ]
     },
     "metadata": {},
     "output_type": "display_data"
    }
   ],
   "source": [
    "import matplotlib.pyplot as plt\n",
    "from sklearn.metrics import roc_curve, roc_auc_score, auc\n",
    "from sklearn.metrics import RocCurveDisplay\n",
    "\n",
    "fig, ax_roc = plt.subplots(1, 1, figsize=(11, 5))\n",
    "\n",
    "classifiers = {\n",
    "    \"SVM\": SVC(kernel='linear', probability=True),  # Enable probability estimates for SVM\n",
    "    \"Logistic\": LogisticRegression(max_iter=500),\n",
    "    \"KNN\": KNeighborsClassifier(),\n",
    "    \"VB Logistic Regression\": variational_bayesian_logistic_regression\n",
    "}\n",
    "\n",
    "for name, clf in classifiers.items():\n",
    "    if name == \"VB Logistic Regression\":\n",
    "        logits = X_test_bias.dot(posterior_mean)\n",
    "        probabilities = sigmoid(logits)\n",
    "        fpr, tpr, _ = roc_curve(y_test, probabilities)\n",
    "        roc_auc = auc(fpr, tpr)\n",
    "        RocCurveDisplay(fpr=fpr, tpr=tpr, estimator_name=f'{name}').plot(ax=ax_roc)\n",
    "    else:\n",
    "        clf.fit(X_train, y_train)\n",
    "        try:\n",
    "            # Try using predict_proba\n",
    "            prob_pos = clf.predict_proba(X_test)[:, 1]\n",
    "        except AttributeError:\n",
    "            # Use decision_function if predict_proba is not available\n",
    "            prob_pos = clf.decision_function(X_test)\n",
    "     \n",
    "        fpr, tpr, _ = roc_curve(y_test, prob_pos)\n",
    "        roc_auc = roc_auc_score(y_test, prob_pos)\n",
    "        RocCurveDisplay(fpr=fpr, tpr=tpr, estimator_name=f'{name}').plot(ax=ax_roc)\n",
    "\n",
    "ax_roc.set_title(\"Receiver Operating Characteristic (ROC) curves\")\n",
    "ax_roc.grid(linestyle=\"--\")\n",
    "plt.legend()\n",
    "plt.show()"
   ]
  },
  {
   "cell_type": "code",
   "execution_count": null,
   "id": "e373c667",
   "metadata": {},
   "outputs": [],
   "source": []
  }
 ],
 "metadata": {
  "kernelspec": {
   "display_name": "Python 3 (ipykernel)",
   "language": "python",
   "name": "python3"
  },
  "language_info": {
   "codemirror_mode": {
    "name": "ipython",
    "version": 3
   },
   "file_extension": ".py",
   "mimetype": "text/x-python",
   "name": "python",
   "nbconvert_exporter": "python",
   "pygments_lexer": "ipython3",
   "version": "3.11.3"
  }
 },
 "nbformat": 4,
 "nbformat_minor": 5
}
