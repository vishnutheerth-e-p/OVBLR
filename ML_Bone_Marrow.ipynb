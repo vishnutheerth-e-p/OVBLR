{
 "cells": [
  {
   "cell_type": "code",
   "execution_count": 1,
   "id": "d64ec375",
   "metadata": {},
   "outputs": [],
   "source": [
    "import pandas as pd\n",
    "import matplotlib.pyplot as plt\n",
    "from sklearn.metrics import accuracy_score,precision_score,recall_score,f1_score,confusion_matrix\n",
    "from sklearn.linear_model import LogisticRegression\n",
    "from sklearn.svm import SVC\n",
    "from sklearn.preprocessing import StandardScaler\n",
    "from sklearn.metrics import roc_curve, auc\n",
    "from sklearn.model_selection import train_test_split,cross_val_score\n",
    "from sklearn.neighbors import KNeighborsClassifier"
   ]
  },
  {
   "cell_type": "code",
   "execution_count": 2,
   "id": "247e32d9",
   "metadata": {},
   "outputs": [],
   "source": [
    "df=pd.read_csv('raw_data.csv')"
   ]
  },
  {
   "cell_type": "code",
   "execution_count": 3,
   "id": "73851386",
   "metadata": {},
   "outputs": [
    {
     "data": {
      "text/plain": [
       "survival_status         187\n",
       "Recipientgender         187\n",
       "Stemcellsource          187\n",
       "Donorage                187\n",
       "Donorage35              187\n",
       "IIIV                    187\n",
       "Gendermatch             187\n",
       "DonorABO                187\n",
       "RecipientABO            187\n",
       "RecipientRh             187\n",
       "ABOmatch                187\n",
       "CMVstatus               187\n",
       "DonorCMV                187\n",
       "RecipientCMV            187\n",
       "Riskgroup               187\n",
       "Txpostrelapse           187\n",
       "Diseasegroup            187\n",
       "HLAmatch                187\n",
       "HLAmismatch             187\n",
       "Antigen                 187\n",
       "Alel                    187\n",
       "HLAgrI                  187\n",
       "Recipientage            187\n",
       "Recipientage10          187\n",
       "Recipientageint         187\n",
       "Relapse                 187\n",
       "aGvHDIIIIV              187\n",
       "extcGvHD                187\n",
       "CD34kgx10d6             187\n",
       "CD3dCD34                187\n",
       "CD3dkgx10d8             187\n",
       "Rbodymass               187\n",
       "ANCrecovery             187\n",
       "PLTrecovery             187\n",
       "time_to_aGvHD_III_IV    187\n",
       "survival_time           187\n",
       "AML                     187\n",
       "chronic                 187\n",
       "lymphoma                187\n",
       "nonmalignant            187\n",
       "dtype: int64"
      ]
     },
     "execution_count": 3,
     "metadata": {},
     "output_type": "execute_result"
    }
   ],
   "source": [
    "df.isnull().count()"
   ]
  },
  {
   "cell_type": "code",
   "execution_count": 4,
   "id": "09228039",
   "metadata": {},
   "outputs": [],
   "source": [
    "X=df.iloc[:,1:]\n",
    "Y=df.iloc[:,0]"
   ]
  },
  {
   "cell_type": "code",
   "execution_count": 5,
   "id": "2d42ed06",
   "metadata": {},
   "outputs": [
    {
     "data": {
      "text/plain": [
       "array([0, 1], dtype=int64)"
      ]
     },
     "execution_count": 5,
     "metadata": {},
     "output_type": "execute_result"
    }
   ],
   "source": [
    "Y.unique()"
   ]
  },
  {
   "cell_type": "markdown",
   "id": "61f2276a",
   "metadata": {},
   "source": [
    "# Split 80% for training and 20% for testing.                             "
   ]
  },
  {
   "cell_type": "code",
   "execution_count": 6,
   "id": "fb4cc0a5",
   "metadata": {},
   "outputs": [],
   "source": [
    "x_train,x_test,y_train,y_test=train_test_split(X,Y,test_size=0.2,random_state=83)"
   ]
  },
  {
   "cell_type": "markdown",
   "id": "02158fb6",
   "metadata": {},
   "source": [
    "# LogisticRegression"
   ]
  },
  {
   "cell_type": "code",
   "execution_count": 7,
   "id": "0a480cb1",
   "metadata": {},
   "outputs": [],
   "source": [
    "clf=LogisticRegression(max_iter=500)"
   ]
  },
  {
   "cell_type": "code",
   "execution_count": 8,
   "id": "67b13829",
   "metadata": {},
   "outputs": [
    {
     "name": "stdout",
     "output_type": "stream",
     "text": [
      "5 Fold Cross Validation\n",
      "Fold0 = 0.9\n",
      "Fold1 = 0.9666666666666667\n",
      "Fold2 = 0.8333333333333334\n",
      "Fold3 = 0.9666666666666667\n",
      "Fold4 = 0.896551724137931\n"
     ]
    }
   ],
   "source": [
    "x1=cross_val_score(clf,x_train,y_train,cv=5)\n",
    "print('5 Fold Cross Validation')\n",
    "for i,j in enumerate(x1):\n",
    "    print(f'Fold{i} = {j}')"
   ]
  },
  {
   "cell_type": "code",
   "execution_count": 9,
   "id": "1b2f2eda",
   "metadata": {},
   "outputs": [],
   "source": [
    "fit_1=clf.fit(x_train,y_train)"
   ]
  },
  {
   "cell_type": "code",
   "execution_count": 10,
   "id": "2174b5d7",
   "metadata": {},
   "outputs": [],
   "source": [
    "pred=fit_1.predict(x_test)"
   ]
  },
  {
   "cell_type": "code",
   "execution_count": 11,
   "id": "48ab4872",
   "metadata": {},
   "outputs": [],
   "source": [
    "#Evaluation Metrics\n",
    "acc=accuracy_score(y_test,pred)\n",
    "rec=recall_score(y_test,pred)\n",
    "pre=precision_score(y_test,pred)\n",
    "f1=f1_score(y_test,pred)\n",
    "cf=confusion_matrix(y_test,pred)"
   ]
  },
  {
   "cell_type": "code",
   "execution_count": 12,
   "id": "a3ee4157",
   "metadata": {
    "scrolled": true
   },
   "outputs": [
    {
     "name": "stdout",
     "output_type": "stream",
     "text": [
      "Confusion Matrix\n",
      "[[23  2]\n",
      " [ 3 10]]\n",
      "Accuracy = 0.868421052631579\n",
      "Recall = 0.7692307692307693\n",
      "Precesion = 0.8333333333333334\n",
      "f1 score = 0.8\n"
     ]
    }
   ],
   "source": [
    "print('Confusion Matrix')\n",
    "print(cf)\n",
    "print(f'Accuracy = {acc}')\n",
    "print(f'Recall = {rec}')\n",
    "print(f'Precesion = {pre}')\n",
    "print(f'f1 score = {f1}')"
   ]
  },
  {
   "cell_type": "markdown",
   "id": "359549d9",
   "metadata": {},
   "source": [
    "# SVM"
   ]
  },
  {
   "cell_type": "code",
   "execution_count": null,
   "id": "2336f857",
   "metadata": {},
   "outputs": [],
   "source": [
    "sv1=SVC(kernel='linear')\n",
    "sv2=cross_val_score(sv1,x_train,y_train,cv=5)\n",
    "print('5 Fold Cross Validation')\n",
    "for i,j in enumerate(sv2):\n",
    "    print(f'Fold{i} = {j}')"
   ]
  },
  {
   "cell_type": "code",
   "execution_count": null,
   "id": "aa9e77cd",
   "metadata": {},
   "outputs": [],
   "source": [
    "fit_2=sv1.fit(x_train,y_train)"
   ]
  },
  {
   "cell_type": "code",
   "execution_count": null,
   "id": "ad10a535",
   "metadata": {},
   "outputs": [],
   "source": [
    "pred_2=fit_2.predict(x_test)"
   ]
  },
  {
   "cell_type": "code",
   "execution_count": null,
   "id": "80dc75da",
   "metadata": {},
   "outputs": [],
   "source": [
    "#Evaluation Metrics\n",
    "acc=accuracy_score(y_test,pred_2)\n",
    "rec=recall_score(y_test,pred_2)\n",
    "pre=precision_score(y_test,pred_2)\n",
    "f1=f1_score(y_test,pred_2)\n",
    "cf=confusion_matrix(y_test,pred_2)"
   ]
  },
  {
   "cell_type": "code",
   "execution_count": null,
   "id": "16a87316",
   "metadata": {},
   "outputs": [],
   "source": [
    "print('Confusion Matrix')\n",
    "print(cf)\n",
    "print(f'Accuracy = {acc}')\n",
    "print(f'Recall = {rec}')\n",
    "print(f'Precesion = {pre}')\n",
    "print(f'f1 score = {f1}')"
   ]
  },
  {
   "cell_type": "markdown",
   "id": "9aa425ae",
   "metadata": {},
   "source": [
    "# KNN"
   ]
  },
  {
   "cell_type": "code",
   "execution_count": 13,
   "id": "19ae5588",
   "metadata": {},
   "outputs": [
    {
     "name": "stdout",
     "output_type": "stream",
     "text": [
      "5 Fold Cross Validation\n",
      "Fold0 = 0.9\n",
      "Fold1 = 0.9666666666666667\n",
      "Fold2 = 0.8333333333333334\n",
      "Fold3 = 0.8333333333333334\n",
      "Fold4 = 0.9310344827586207\n"
     ]
    }
   ],
   "source": [
    "knn=KNeighborsClassifier()\n",
    "knn_2=cross_val_score(knn,x_train,y_train,cv=5)\n",
    "print('5 Fold Cross Validation')\n",
    "for i,j in enumerate(knn_2):\n",
    "    print(f'Fold{i} = {j}')"
   ]
  },
  {
   "cell_type": "code",
   "execution_count": 14,
   "id": "492830ad",
   "metadata": {},
   "outputs": [],
   "source": [
    "fit_3=knn.fit(x_train,y_train)"
   ]
  },
  {
   "cell_type": "code",
   "execution_count": 15,
   "id": "51022ee9",
   "metadata": {},
   "outputs": [],
   "source": [
    "pred_3=fit_3.predict(x_test)"
   ]
  },
  {
   "cell_type": "code",
   "execution_count": 16,
   "id": "aec7f24e",
   "metadata": {},
   "outputs": [],
   "source": [
    "#Evaluation Metrics\n",
    "acc=accuracy_score(y_test,pred_3)\n",
    "rec=recall_score(y_test,pred_3)\n",
    "pre=precision_score(y_test,pred_3)\n",
    "f1=f1_score(y_test,pred_3)\n",
    "cf=confusion_matrix(y_test,pred_3)"
   ]
  },
  {
   "cell_type": "code",
   "execution_count": 17,
   "id": "b7830984",
   "metadata": {},
   "outputs": [
    {
     "name": "stdout",
     "output_type": "stream",
     "text": [
      "Confusion Matrix\n",
      "[[25  0]\n",
      " [ 2 11]]\n",
      "Accuracy = 0.9473684210526315\n",
      "Recall = 0.8461538461538461\n",
      "Precesion = 1.0\n",
      "f1 score = 0.9166666666666666\n"
     ]
    }
   ],
   "source": [
    "print('Confusion Matrix')\n",
    "print(cf)\n",
    "print(f'Accuracy = {acc}')\n",
    "print(f'Recall = {rec}')\n",
    "print(f'Precesion = {pre}')\n",
    "print(f'f1 score = {f1}')"
   ]
  },
  {
   "cell_type": "markdown",
   "id": "e3f45b81",
   "metadata": {},
   "source": [
    "# OVBLR"
   ]
  },
  {
   "cell_type": "code",
   "execution_count": 18,
   "id": "ca6da669",
   "metadata": {},
   "outputs": [],
   "source": [
    "from sklearn.preprocessing import StandardScaler\n",
    "import numpy as np\n",
    "import scipy.optimize\n",
    "df=pd.read_csv('raw_data.csv')\n",
    "X=df.iloc[:,1:]\n",
    "Y=df.iloc[:,0]\n",
    "# X_train, X_test, y_train, y_test = train_test_split(X, Y, test_size=0.2, random_state=42)\n",
    "scaler = StandardScaler()\n",
    "X_train = scaler.fit_transform(x_train)\n",
    "X_test = scaler.transform(x_test)\n",
    "# Add a bias term to the features\n",
    "X_train_bias = np.hstack((X_train, np.ones((X_train.shape[0], 1))))\n",
    "X_test_bias = np.hstack((X_test, np.ones((X_test.shape[0], 1))))\n",
    "# Logistic sigmoid function\n",
    "def sigmoid(z):\n",
    "    return 1 / (1 + np.exp(-z))\n",
    "\n",
    "# Variational Bayesian Logistic Regression\n",
    "def variational_bayesian_logistic_regression(X, y, num_iter=1000):\n",
    "    num_samples, num_features = X.shape\n",
    "    weights = np.zeros(num_features)  # Initialize weights to zeros\n",
    "    precision_matrix = np.eye(num_features)  # Initialize precision matrix to identity\n",
    "\n",
    "    for _ in range(num_iter):\n",
    "        # Compute posterior parameters\n",
    "        covariance_matrix = np.linalg.inv(precision_matrix)\n",
    "        posterior_mean = weights\n",
    "        posterior_covariance = covariance_matrix\n",
    "\n",
    "        # Compute gradient of the evidence lower bound (ELBO)\n",
    "        y_pred = sigmoid(X.dot(weights))\n",
    "        gradient = X.T.dot(y - y_pred) - covariance_matrix.dot(weights)\n",
    "\n",
    "        # Update precision matrix using the gradient\n",
    "        precision_matrix += 0.01 * np.eye(num_features)  # Add a small regularization term\n",
    "        weights += 0.01 * covariance_matrix.dot(gradient)\n",
    "\n",
    "    return posterior_mean, covariance_matrix\n",
    "\n",
    "# Train the model\n",
    "posterior_mean, posterior_covariance = variational_bayesian_logistic_regression(X_train_bias, y_train)\n",
    "\n",
    "# Make predictions on the test set\n",
    "logits = X_test_bias.dot(posterior_mean)\n",
    "probabilities = sigmoid(logits)\n",
    "predictions = (probabilities > 0.5).astype(int)\n",
    "\n"
   ]
  },
  {
   "cell_type": "code",
   "execution_count": 19,
   "id": "4567d7ad",
   "metadata": {},
   "outputs": [],
   "source": [
    "#Evaluation Metrics\n",
    "acc=accuracy_score(y_test,predictions)\n",
    "rec=recall_score(y_test,predictions)\n",
    "pre=precision_score(y_test,predictions)\n",
    "f1=f1_score(y_test,predictions)\n",
    "cf=confusion_matrix(y_test,predictions)"
   ]
  },
  {
   "cell_type": "code",
   "execution_count": 20,
   "id": "33dcf494",
   "metadata": {},
   "outputs": [
    {
     "name": "stdout",
     "output_type": "stream",
     "text": [
      "Confusion Matrix\n",
      "[[24  1]\n",
      " [ 0 13]]\n",
      "Accuracy = 0.9736842105263158\n",
      "Recall = 1.0\n",
      "Precesion = 0.9285714285714286\n",
      "f1 score = 0.962962962962963\n"
     ]
    }
   ],
   "source": [
    "print('Confusion Matrix')\n",
    "print(cf)\n",
    "print(f'Accuracy = {acc}')\n",
    "print(f'Recall = {rec}')\n",
    "print(f'Precesion = {pre}')\n",
    "print(f'f1 score = {f1}')"
   ]
  },
  {
   "cell_type": "markdown",
   "id": "4d09c13d",
   "metadata": {},
   "source": [
    "# ROC Curve"
   ]
  },
  {
   "cell_type": "code",
   "execution_count": 21,
   "id": "44142964",
   "metadata": {},
   "outputs": [
    {
     "data": {
      "image/png": "[encoded data removed]",
      "text/plain": [
       "<Figure size 1100x500 with 1 Axes>"
      ]
     },
     "metadata": {},
     "output_type": "display_data"
    }
   ],
   "source": [
    "import matplotlib.pyplot as plt\n",
    "from sklearn.metrics import roc_curve, roc_auc_score, auc\n",
    "from sklearn.metrics import RocCurveDisplay\n",
    "\n",
    "fig, ax_roc = plt.subplots(1, 1, figsize=(11, 5))\n",
    "\n",
    "classifiers = {\n",
    "    #\"SVM\": SVC(kernel='linear', probability=True),  # Enable probability estimates for SVM\n",
    "    \"Logistic\": LogisticRegression(max_iter=500),\n",
    "    \"KNN\": KNeighborsClassifier(),\n",
    "    \"VB Logistic Regression\": variational_bayesian_logistic_regression\n",
    "}\n",
    "\n",
    "for name, clf in classifiers.items():\n",
    "    if name == \"VB Logistic Regression\":\n",
    "        logits = X_test_bias.dot(posterior_mean)\n",
    "        probabilities = sigmoid(logits)\n",
    "        fpr, tpr, _ = roc_curve(y_test, probabilities)\n",
    "        roc_auc = auc(fpr, tpr)\n",
    "        RocCurveDisplay(fpr=fpr, tpr=tpr, estimator_name=f'{name} ').plot(ax=ax_roc)\n",
    "    else:\n",
    "        clf.fit(X_train, y_train)\n",
    "        try:\n",
    "            # Try using predict_proba\n",
    "            prob_pos = clf.predict_proba(X_test)[:, 1]\n",
    "        except AttributeError:\n",
    "            # Use decision_function if predict_proba is not available\n",
    "            prob_pos = clf.decision_function(X_test)\n",
    "     \n",
    "        fpr, tpr, _ = roc_curve(y_test, prob_pos)\n",
    "        roc_auc = roc_auc_score(y_test, prob_pos)\n",
    "        RocCurveDisplay(fpr=fpr, tpr=tpr, estimator_name=f'{name}').plot(ax=ax_roc)\n",
    "\n",
    "ax_roc.set_title(\"Receiver Operating Characteristic (ROC) curves\")\n",
    "ax_roc.grid(linestyle=\"--\")\n",
    "plt.legend()\n",
    "plt.show()"
   ]
  },
  {
   "cell_type": "code",
   "execution_count": null,
   "id": "ac57b7b7",
   "metadata": {},
   "outputs": [],
   "source": []
  }
 ],
 "metadata": {
  "kernelspec": {
   "display_name": "Python 3 (ipykernel)",
   "language": "python",
   "name": "python3"
  },
  "language_info": {
   "codemirror_mode": {
    "name": "ipython",
    "version": 3
   },
   "file_extension": ".py",
   "mimetype": "text/x-python",
   "name": "python",
   "nbconvert_exporter": "python",
   "pygments_lexer": "ipython3",
   "version": "3.11.3"
  }
 },
 "nbformat": 4,
 "nbformat_minor": 5
}
